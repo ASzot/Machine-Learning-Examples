{
 "cells": [
  {
   "cell_type": "code",
   "execution_count": 14,
   "metadata": {
    "collapsed": false
   },
   "outputs": [],
   "source": [
    "from sklearn.datasets import load_iris\n",
    "from sklearn.preprocessing import StandardScaler\n",
    "import numpy as np"
   ]
  },
  {
   "cell_type": "code",
   "execution_count": 15,
   "metadata": {
    "collapsed": true
   },
   "outputs": [],
   "source": [
    "iris_data = load_iris()"
   ]
  },
  {
   "cell_type": "code",
   "execution_count": 16,
   "metadata": {
    "collapsed": true
   },
   "outputs": [],
   "source": [
    "X = iris_data['data']"
   ]
  },
  {
   "cell_type": "markdown",
   "metadata": {},
   "source": [
    "Simply computes the following equation on a per feature basis\n",
    "$$z = \\frac{x - \\mu}{\\sigma}$$"
   ]
  },
  {
   "cell_type": "code",
   "execution_count": 17,
   "metadata": {
    "collapsed": true
   },
   "outputs": [],
   "source": [
    "Z = StandardScaler().fit_transform(X)"
   ]
  },
  {
   "cell_type": "markdown",
   "metadata": {},
   "source": [
    "The covariance matrix is defined as:\n",
    "$$ \\frac{1}{n} (\\textbf{X}-\\mu_{x})^{T}(\\textbf{X}-\\mu_{x})$$\n",
    "Where $n$ is the number of rows in the matrix."
   ]
  },
  {
   "cell_type": "code",
   "execution_count": 20,
   "metadata": {
    "collapsed": false
   },
   "outputs": [
    {
     "name": "stdout",
     "output_type": "stream",
     "text": [
      "[[ 1.00671141 -0.11010327  0.87760486  0.82344326]\n",
      " [-0.11010327  1.00671141 -0.42333835 -0.358937  ]\n",
      " [ 0.87760486 -0.42333835  1.00671141  0.96921855]\n",
      " [ 0.82344326 -0.358937    0.96921855  1.00671141]]\n"
     ]
    }
   ],
   "source": [
    "# Just the above equation in code.\n",
    "mean = np.mean(Z, axis=0)\n",
    "covariance_matrix = (Z - mean).T.dot(Z - mean) / (Z.shape[0] - 1)\n",
    "\n",
    "print(covariance_matrix)"
   ]
  },
  {
   "cell_type": "code",
   "execution_count": 22,
   "metadata": {
    "collapsed": false
   },
   "outputs": [
    {
     "name": "stdout",
     "output_type": "stream",
     "text": [
      "[ 2.93035378  0.92740362  0.14834223  0.02074601]\n",
      "\n",
      "[[ 0.52237162 -0.37231836 -0.72101681  0.26199559]\n",
      " [-0.26335492 -0.92555649  0.24203288 -0.12413481]\n",
      " [ 0.58125401 -0.02109478  0.14089226 -0.80115427]\n",
      " [ 0.56561105 -0.06541577  0.6338014   0.52354627]]\n"
     ]
    }
   ],
   "source": [
    "# Next we are going to find the eigenvectors \n",
    "# of the covariance matrix.\n",
    "eigen_vals, eigen_vectors = np.linalg.eig(covariance_matrix)\n",
    "\n",
    "print(eigen_vals)\n",
    "print('')\n",
    "print(eigen_vectors)"
   ]
  },
  {
   "cell_type": "code",
   "execution_count": 25,
   "metadata": {
    "collapsed": false
   },
   "outputs": [
    {
     "name": "stdout",
     "output_type": "stream",
     "text": [
      "(2.9303537755893165, array([ 0.52237162, -0.37231836, -0.72101681,  0.26199559]))\n",
      "(0.92740362151734079, array([-0.26335492, -0.92555649,  0.24203288, -0.12413481]))\n",
      "(0.14834222648163947, array([ 0.58125401, -0.02109478,  0.14089226, -0.80115427]))\n",
      "(0.020746013995595794, array([ 0.56561105, -0.06541577,  0.6338014 ,  0.52354627]))\n"
     ]
    }
   ],
   "source": [
    "# Sort the eigenvectors by their eigenvalues \n",
    "# (how much each eigenvector contributes to the \n",
    "# distribution of hte data)\n",
    "\n",
    "# Pair the eigenvectors with their eigenvalue\n",
    "eigen_pairs = [(np.abs(eigen_vals[i]), eigen_vectors[i]) for i in range(len(eigen_vals))]\n",
    "\n",
    "sorted_eigen_pairs = sorted(eigen_pairs, key=lambda x: x[0], reverse=True)\n",
    "\n",
    "for sorted_eigen_pair in sorted_eigen_pairs:\n",
    "    print(sorted_eigen_pair)"
   ]
  },
  {
   "cell_type": "code",
   "execution_count": 28,
   "metadata": {
    "collapsed": false
   },
   "outputs": [
    {
     "name": "stdout",
     "output_type": "stream",
     "text": [
      "72.77%\n",
      "23.03%\n",
      "3.68%\n",
      "0.52%\n"
     ]
    }
   ],
   "source": [
    "# Get the relative contribution of each eigenvector.\n",
    "# This is called the explained variance\n",
    "total = sum(eigen_vals)\n",
    "explained_var = [(eigen_val / total) * 100 \n",
    "                 for eigen_val, eigen_vec in sorted_eigen_pairs]\n",
    "for explained_var_ele in explained_var:\n",
    "    print(\"%.2f%%\" % explained_var_ele)"
   ]
  },
  {
   "cell_type": "code",
   "execution_count": 33,
   "metadata": {
    "collapsed": false
   },
   "outputs": [
    {
     "name": "stdout",
     "output_type": "stream",
     "text": [
      "[[ 0.52237162 -0.26335492]\n",
      " [-0.37231836 -0.92555649]\n",
      " [-0.72101681  0.24203288]\n",
      " [ 0.26199559 -0.12413481]]\n"
     ]
    }
   ],
   "source": [
    "# Finally construct the matrix to project the original data to\n",
    "# the new space. In practice examine the explained variance to \n",
    "# determine the number of eigenvectors to select.\n",
    "N = 2\n",
    "proj_matrix = np.array([eigen_vec for eigen_val, eigen_vec in sorted_eigen_pairs[:N]]).T\n",
    "print(proj_matrix)"
   ]
  },
  {
   "cell_type": "code",
   "execution_count": 36,
   "metadata": {
    "collapsed": false
   },
   "outputs": [
    {
     "name": "stdout",
     "output_type": "stream",
     "text": [
      "[[-0.2316583  -0.87967436]\n",
      " [ 0.07253025  0.25502854]\n",
      " [-0.18536908 -0.12326756]\n",
      " [-0.24451042  0.15034585]\n",
      " [-0.38110853 -1.06194072]]\n"
     ]
    }
   ],
   "source": [
    "X_proj = Z.dot(proj_matrix)\n",
    "# The data now has dimensionality N.\n",
    "print(X_proj[:5])"
   ]
  },
  {
   "cell_type": "code",
   "execution_count": null,
   "metadata": {
    "collapsed": true
   },
   "outputs": [],
   "source": []
  }
 ],
 "metadata": {
  "kernelspec": {
   "display_name": "Python 3",
   "language": "python",
   "name": "python3"
  },
  "language_info": {
   "codemirror_mode": {
    "name": "ipython",
    "version": 3
   },
   "file_extension": ".py",
   "mimetype": "text/x-python",
   "name": "python",
   "nbconvert_exporter": "python",
   "pygments_lexer": "ipython3",
   "version": "3.6.0"
  }
 },
 "nbformat": 4,
 "nbformat_minor": 2
}
